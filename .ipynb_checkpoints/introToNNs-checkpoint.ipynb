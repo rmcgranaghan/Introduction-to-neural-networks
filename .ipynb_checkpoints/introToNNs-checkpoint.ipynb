{
 "cells": [
  {
   "cell_type": "markdown",
   "metadata": {
    "slideshow": {
     "slide_type": "slide"
    }
   },
   "source": [
    "## Brief Introduction to Neural Networks\n",
    "\n"
   ]
  },
  {
   "cell_type": "markdown",
   "metadata": {
    "slideshow": {
     "slide_type": "slide"
    }
   },
   "source": [
    "### Components of a neural network\n",
    "\n",
    "![](GenericNeuralNetwork.jpg \"Generic Neural Network\")\n"
   ]
  },
  {
   "cell_type": "markdown",
   "metadata": {},
   "source": [
    "### First, a note: \n",
    "Neural networks are useful, though are not the appropriate solutions to _all_ tasks. There is a [massive space of potential machine learning algorithms](https://machinelearningmastery.com/a-tour-of-machine-learning-algorithms/) and the appropriate choice needs to be driven by the application at hand. **The spectrum of machine learning algorithms needs to be explored for a given problem**. That being said, neural networks are a capable approach to many problems, and below is a gentle introduction. \n",
    "\n",
    "### General details\n",
    "Neural networks consist of an input layer, an output layer, and one or more hidden layers. Each layer is *connected* in some manner. Above is a schematic of a *fully connected* network because each of the inputs is connected to *all* of the nodes, or neurons, in the following layer. This is sometimes called a *densely* connected network. \n",
    "\n",
    "This is an example of a *feed-forward* network in which the connections (links from one layer to another) flow in only one direction: from input to output. Each connection in a neural network is associated with a weight that must be learned through training. \n",
    "\n",
    "### Input layer\n",
    "The input layer of this network consists of three input nodes, which are *features* or variables of our input data. No computation occurs on the input layer and these data are passed directly to the first hidden layer.\n",
    "\n",
    "### Hidden layer\n",
    "This network consists of two hidden layers, each with four nodes, which are typically called neurons in the hidden layers. \n",
    "\n",
    "The number of hidden layers and the number of neurons of each layer are design parameters of the network, or *hyperparameters*, and are components that one seeks to tune during optimization of a network for a given data set or application. \n",
    "\n",
    "Each neuron of a hidden layer computes an *activation* based on the input to the node. The input consists of the data being fed into it with an associated weight. \n",
    "\n",
    "<img src=\"GenericNeuron.png\" alt=\"Generic Neuron\" width=\"500\"/>"
   ]
  },
  {
   "cell_type": "markdown",
   "metadata": {},
   "source": [
    "The activation is determined by some activation function, which takes a single number and performs a fixed mathematical operation on it. The purpose of these functions is to introduce non-linearity into the output of the neuron, thus allowing neural networks to learn nonlinear relationships between the input and output. The activation also may allow the output of the neuron to take on a continuum of values rather than binary 0 or 1, which might lead to small changes in input producing large changes in output across the network. \n",
    "\n",
    "A few useful activation functions that are commonly used: \n",
    "\n",
    "###### Sigmoid\n",
    "Takes real-valued input and squashes to range [0,1]\n",
    "$$\\sigma(x) = \\frac{1}{1+e^{-1}}$$\n",
    "\n",
    "![](SigmoidFunction.gif \"\")\n",
    "\n",
    "###### Tanh\n",
    "Takes real-valued input and squashes to range [-1,1]\n",
    "$$\\tanh(x) = 2\\sigma(2x) − 1$$\n",
    "*NOTE: Tanh is simply a scaled sigmoid function*\n",
    "\n",
    "![](TanhFunction.gif \"\")\n",
    "\n",
    "\n",
    "###### ReLU (Rectified Linear Unit)\n",
    "Takes real-valued input and thresholds at zero (negative values become zero)\n",
    "$$f(x) = max[0,x]$$\n",
    "\n",
    "![](ReLUFunction.png \"\")\n",
    "\n",
    "\n",
    "\n",
    "### Output layer\n",
    "The output layer of this network has only one node, which performs a similar computation as the hidden layer neurons and calculates the output of the network. The output may be real-valued (regression), multiple discrete values (multinomial classification), or binary (binomial classification). The network may also produce more than one output (i.e., multiple variables are predicted).\n",
    "\n",
    "The output ultimately represents whatever the *target* of the network is. The values of the target in a training data set are referred to as *labels*. "
   ]
  },
  {
   "cell_type": "markdown",
   "metadata": {},
   "source": [
    "### Neural networks can take many forms...  \n",
    "![](NeuralNetworkTypes.jpg \"Neural Network Types\")\n"
   ]
  },
  {
   "cell_type": "markdown",
   "metadata": {},
   "source": [
    "### High-level neural network operations\n",
    "*NOTE: we will not get into the mathematical details of calculating and updating the weights within neural networks (e.g., backpropagation) today, but rather attempt to develop an intuition for neural network operation. A good initial resource is Andrew Ng's machine learning online Coursera course: https://bit.ly/2zvKm8C\n",
    "\n",
    "\n",
    "#### How a neural network 'learns': Backpropagation\n",
    "Backpropagation is a *supervised* technique, meaning that the model learns from labeled data (i.e., it knows the answer). \n",
    "\n",
    "All network weights are initially assigned random values. For every input data sample (a single instance of the input data) the weights of the network are activated and the output computed. This output is compared with the known expected output (the label) and the weights are adjusted accordingly (based, essentially on a simple chain rule for nested functions). The process repeats until the output error falls below a predefined threshold. \n",
    "\n",
    "The final result is a *learned* neural network that maps the set of inputs to the output. The network can then be used to predict the labels for unseen/new input data samples. \n",
    "\n",
    "Further information can be found at this excellent visual representation of backpropagation: https://bit.ly/2bF6NcM\n",
    "\n",
    "\n"
   ]
  },
  {
   "cell_type": "markdown",
   "metadata": {},
   "source": [
    "### Example\n",
    "\n",
    "Following https://machinelearningmastery.com/tutorial-first-neural-network-python-keras/\n",
    "\n",
    "Because we learn in the concrete better than the abstract (e.g., [take a note from Jean-Jacques Rousseau](https://en.wikipedia.org/wiki/Emile,_or_On_Education)), let's work through an example to crystallize these ideas. "
   ]
  },
  {
   "cell_type": "markdown",
   "metadata": {},
   "source": [
    "### Tools \n",
    "\n",
    "\n",
    "###### Tensorflow\n",
    "[Tensorflow](https://www.tensorflow.org/) is an open source software library for machine intelligence originally developed by researchers and engineers working on the Google Brain Team\n",
    "\n",
    "###### Keras\n",
    "[Keras](https://keras.io/) is a high-level neural networks applied programming interface (API, a software intermediary that allows two applications to talk to each other) capable of running on top of Tensorflow and [Theano](http://deeplearning.net/software/theano/) backends\n",
    "   - Very useful for rapid prototyping (i.e., quickly going from idea to result)\n",
    "\n",
    "###### Other packages\n",
    "- [Numpy](https://www.numpy.org/)\n",
    "- [Scipy](https://www.scipy.org/)\n",
    "- [Pandas](https://pandas.pydata.org/index.html)\n",
    "- [Seaborn](https://seaborn.pydata.org/)"
   ]
  },
  {
   "cell_type": "code",
   "execution_count": 1,
   "metadata": {
    "ExecuteTime": {
     "end_time": "2019-05-03T14:27:27.691264Z",
     "start_time": "2019-05-03T14:27:24.595154Z"
    }
   },
   "outputs": [
    {
     "name": "stderr",
     "output_type": "stream",
     "text": [
      "Using TensorFlow backend.\n"
     ]
    },
    {
     "name": "stdout",
     "output_type": "stream",
     "text": [
      "2.2.4\n",
      "1.12.0\n"
     ]
    }
   ],
   "source": [
    "import keras, tensorflow\n",
    "\n",
    "print( keras.__version__)\n",
    "print( tensorflow.__version__)\n",
    "\n"
   ]
  },
  {
   "cell_type": "markdown",
   "metadata": {},
   "source": [
    "##### Step 1: Load the data\n",
    "\n",
    "Using the Pima indians onset of diabetes dataset, a standard dataset provided by UCI Machine Learning repository - https://archive.ics.uci.edu/ml/datasets.html\n",
    "- It describes patient medical record data for Pima Indians and whether they had an onset of diabetes within five years\n",
    "- All input data are numerical\n",
    "- Output is a 0 (no onset diabetes) or 1 (onset diabetes)\n",
    "- Requires that we download and save the data\n"
   ]
  },
  {
   "cell_type": "code",
   "execution_count": 10,
   "metadata": {
    "ExecuteTime": {
     "end_time": "2019-05-03T14:35:19.436616Z",
     "start_time": "2019-05-03T14:35:19.427892Z"
    }
   },
   "outputs": [],
   "source": [
    "from keras.models import Sequential\n",
    "from keras.layers import Dense\n",
    "import numpy as np\n",
    "import pandas as pd\n",
    "import seaborn as sns\n",
    "\n",
    "# fix random seed for reproducibility\n",
    "np.random.seed(7)\n",
    "\n",
    "\n",
    "dataset = pd.read_csv(\"pima_indians_data.csv\",header=None)\n",
    "# split into input (X) and output (Y) variables\n",
    "X = dataset.iloc[:,0:8].values\n",
    "Y = dataset.iloc[:,8].values\n"
   ]
  },
  {
   "cell_type": "code",
   "execution_count": 11,
   "metadata": {
    "ExecuteTime": {
     "end_time": "2019-05-03T14:35:20.310897Z",
     "start_time": "2019-05-03T14:35:20.271360Z"
    }
   },
   "outputs": [
    {
     "data": {
      "text/html": [
       "<div>\n",
       "<style scoped>\n",
       "    .dataframe tbody tr th:only-of-type {\n",
       "        vertical-align: middle;\n",
       "    }\n",
       "\n",
       "    .dataframe tbody tr th {\n",
       "        vertical-align: top;\n",
       "    }\n",
       "\n",
       "    .dataframe thead th {\n",
       "        text-align: right;\n",
       "    }\n",
       "</style>\n",
       "<table border=\"1\" class=\"dataframe\">\n",
       "  <thead>\n",
       "    <tr style=\"text-align: right;\">\n",
       "      <th></th>\n",
       "      <th>0</th>\n",
       "      <th>1</th>\n",
       "      <th>2</th>\n",
       "      <th>3</th>\n",
       "      <th>4</th>\n",
       "      <th>5</th>\n",
       "      <th>6</th>\n",
       "      <th>7</th>\n",
       "      <th>8</th>\n",
       "    </tr>\n",
       "  </thead>\n",
       "  <tbody>\n",
       "    <tr>\n",
       "      <th>count</th>\n",
       "      <td>768.000000</td>\n",
       "      <td>768.000000</td>\n",
       "      <td>768.000000</td>\n",
       "      <td>768.000000</td>\n",
       "      <td>768.000000</td>\n",
       "      <td>768.000000</td>\n",
       "      <td>768.000000</td>\n",
       "      <td>768.000000</td>\n",
       "      <td>768.000000</td>\n",
       "    </tr>\n",
       "    <tr>\n",
       "      <th>mean</th>\n",
       "      <td>3.845052</td>\n",
       "      <td>120.894531</td>\n",
       "      <td>69.105469</td>\n",
       "      <td>20.536458</td>\n",
       "      <td>79.799479</td>\n",
       "      <td>31.992578</td>\n",
       "      <td>0.471876</td>\n",
       "      <td>33.240885</td>\n",
       "      <td>0.348958</td>\n",
       "    </tr>\n",
       "    <tr>\n",
       "      <th>std</th>\n",
       "      <td>3.369578</td>\n",
       "      <td>31.972618</td>\n",
       "      <td>19.355807</td>\n",
       "      <td>15.952218</td>\n",
       "      <td>115.244002</td>\n",
       "      <td>7.884160</td>\n",
       "      <td>0.331329</td>\n",
       "      <td>11.760232</td>\n",
       "      <td>0.476951</td>\n",
       "    </tr>\n",
       "    <tr>\n",
       "      <th>min</th>\n",
       "      <td>0.000000</td>\n",
       "      <td>0.000000</td>\n",
       "      <td>0.000000</td>\n",
       "      <td>0.000000</td>\n",
       "      <td>0.000000</td>\n",
       "      <td>0.000000</td>\n",
       "      <td>0.078000</td>\n",
       "      <td>21.000000</td>\n",
       "      <td>0.000000</td>\n",
       "    </tr>\n",
       "    <tr>\n",
       "      <th>25%</th>\n",
       "      <td>1.000000</td>\n",
       "      <td>99.000000</td>\n",
       "      <td>62.000000</td>\n",
       "      <td>0.000000</td>\n",
       "      <td>0.000000</td>\n",
       "      <td>27.300000</td>\n",
       "      <td>0.243750</td>\n",
       "      <td>24.000000</td>\n",
       "      <td>0.000000</td>\n",
       "    </tr>\n",
       "    <tr>\n",
       "      <th>50%</th>\n",
       "      <td>3.000000</td>\n",
       "      <td>117.000000</td>\n",
       "      <td>72.000000</td>\n",
       "      <td>23.000000</td>\n",
       "      <td>30.500000</td>\n",
       "      <td>32.000000</td>\n",
       "      <td>0.372500</td>\n",
       "      <td>29.000000</td>\n",
       "      <td>0.000000</td>\n",
       "    </tr>\n",
       "    <tr>\n",
       "      <th>75%</th>\n",
       "      <td>6.000000</td>\n",
       "      <td>140.250000</td>\n",
       "      <td>80.000000</td>\n",
       "      <td>32.000000</td>\n",
       "      <td>127.250000</td>\n",
       "      <td>36.600000</td>\n",
       "      <td>0.626250</td>\n",
       "      <td>41.000000</td>\n",
       "      <td>1.000000</td>\n",
       "    </tr>\n",
       "    <tr>\n",
       "      <th>max</th>\n",
       "      <td>17.000000</td>\n",
       "      <td>199.000000</td>\n",
       "      <td>122.000000</td>\n",
       "      <td>99.000000</td>\n",
       "      <td>846.000000</td>\n",
       "      <td>67.100000</td>\n",
       "      <td>2.420000</td>\n",
       "      <td>81.000000</td>\n",
       "      <td>1.000000</td>\n",
       "    </tr>\n",
       "  </tbody>\n",
       "</table>\n",
       "</div>"
      ],
      "text/plain": [
       "                0           1           2           3           4           5  \\\n",
       "count  768.000000  768.000000  768.000000  768.000000  768.000000  768.000000   \n",
       "mean     3.845052  120.894531   69.105469   20.536458   79.799479   31.992578   \n",
       "std      3.369578   31.972618   19.355807   15.952218  115.244002    7.884160   \n",
       "min      0.000000    0.000000    0.000000    0.000000    0.000000    0.000000   \n",
       "25%      1.000000   99.000000   62.000000    0.000000    0.000000   27.300000   \n",
       "50%      3.000000  117.000000   72.000000   23.000000   30.500000   32.000000   \n",
       "75%      6.000000  140.250000   80.000000   32.000000  127.250000   36.600000   \n",
       "max     17.000000  199.000000  122.000000   99.000000  846.000000   67.100000   \n",
       "\n",
       "                6           7           8  \n",
       "count  768.000000  768.000000  768.000000  \n",
       "mean     0.471876   33.240885    0.348958  \n",
       "std      0.331329   11.760232    0.476951  \n",
       "min      0.078000   21.000000    0.000000  \n",
       "25%      0.243750   24.000000    0.000000  \n",
       "50%      0.372500   29.000000    0.000000  \n",
       "75%      0.626250   41.000000    1.000000  \n",
       "max      2.420000   81.000000    1.000000  "
      ]
     },
     "execution_count": 11,
     "metadata": {},
     "output_type": "execute_result"
    }
   ],
   "source": [
    "dataset.describe()"
   ]
  },
  {
   "cell_type": "markdown",
   "metadata": {},
   "source": [
    "Visualizing the data is critical to understanding the problem"
   ]
  },
  {
   "cell_type": "code",
   "execution_count": 12,
   "metadata": {
    "ExecuteTime": {
     "end_time": "2019-05-03T14:35:23.480853Z",
     "start_time": "2019-05-03T14:35:22.488216Z"
    }
   },
   "outputs": [
    {
     "data": {
      "text/plain": [
       "array([[<matplotlib.axes._subplots.AxesSubplot object at 0x1a2db175c0>,\n",
       "        <matplotlib.axes._subplots.AxesSubplot object at 0x1a2db286d8>,\n",
       "        <matplotlib.axes._subplots.AxesSubplot object at 0x1a2da18940>],\n",
       "       [<matplotlib.axes._subplots.AxesSubplot object at 0x1a2db91ba8>,\n",
       "        <matplotlib.axes._subplots.AxesSubplot object at 0x1a2dbb9e10>,\n",
       "        <matplotlib.axes._subplots.AxesSubplot object at 0x1a2dbeb0b8>],\n",
       "       [<matplotlib.axes._subplots.AxesSubplot object at 0x1a2dc16320>,\n",
       "        <matplotlib.axes._subplots.AxesSubplot object at 0x1a2dc3f5c0>,\n",
       "        <matplotlib.axes._subplots.AxesSubplot object at 0x1a2dc3f5f8>]],\n",
       "      dtype=object)"
      ]
     },
     "execution_count": 12,
     "metadata": {},
     "output_type": "execute_result"
    },
    {
     "data": {
      "image/png": "[encoded data removed]",
      "text/plain": [
       "<Figure size 720x576 with 9 Axes>"
      ]
     },
     "metadata": {
      "needs_background": "light"
     },
     "output_type": "display_data"
    }
   ],
   "source": [
    "dataset.hist(figsize=(10,8))\n"
   ]
  },
  {
   "cell_type": "code",
   "execution_count": 13,
   "metadata": {
    "ExecuteTime": {
     "end_time": "2019-05-03T14:35:26.907356Z",
     "start_time": "2019-05-03T14:35:26.490499Z"
    }
   },
   "outputs": [
    {
     "data": {
      "text/plain": [
       "<matplotlib.axes._subplots.AxesSubplot at 0x1a2de0c2b0>"
      ]
     },
     "execution_count": 13,
     "metadata": {},
     "output_type": "execute_result"
    },
    {
     "data": {
      "image/png": "[encoded data removed]",
      "text/plain": [
       "<Figure size 432x288 with 2 Axes>"
      ]
     },
     "metadata": {
      "needs_background": "light"
     },
     "output_type": "display_data"
    }
   ],
   "source": [
    "%matplotlib inline\n",
    "corr = dataset.corr()\n",
    "sns.heatmap(corr, annot = True)\n",
    "\n"
   ]
  },
  {
   "cell_type": "markdown",
   "metadata": {},
   "source": [
    "##### Step 2: Create the neural network\n",
    "- Input layer must match the number of input variables (8 in this example)\n",
    "- The number and size of the layers is a critical design choice of the neural network, but we will simply choose them here\n",
    "- Use 'Dense' property to create fully connected layers\n",
    "- 'activation' property determines the activation function that we will use\n",
    "   - using ReLU on the first two layers and sigmoid on the output layer, ensuring that the output is between 0 and 1 and easy to map to the binary classification problem\n",
    "- Initialize the weights of the network using the 'uniform' distribution"
   ]
  },
  {
   "cell_type": "code",
   "execution_count": 14,
   "metadata": {
    "ExecuteTime": {
     "end_time": "2019-05-03T14:36:11.315409Z",
     "start_time": "2019-05-03T14:36:11.238194Z"
    }
   },
   "outputs": [],
   "source": [
    "input_dimension = X.shape[1]\n",
    "activation_input = 'relu'\n",
    "activation_hidden = 'relu'\n",
    "activation_output = 'sigmoid'\n",
    "\n",
    "model = Sequential()\n",
    "model.add(Dense(12, input_dim=input_dimension, activation=activation_input))\n",
    "model.add(Dense(8, activation=activation_hidden))\n",
    "model.add(Dense(1, activation=activation_output))"
   ]
  },
  {
   "cell_type": "markdown",
   "metadata": {},
   "source": [
    "##### Step 3: Compile the model\n",
    "- 'Wrapped' libraries (here, Tensorflow) are called and details are determined for computing system and defined model\n",
    "- Must define a few additional parameters\n",
    "   - loss function to evaluate the set of weights of the current model\n",
    "   - optimization strategy\n",
    "   - metrics to define model performance"
   ]
  },
  {
   "cell_type": "code",
   "execution_count": 15,
   "metadata": {
    "ExecuteTime": {
     "end_time": "2019-05-03T14:36:32.001747Z",
     "start_time": "2019-05-03T14:36:31.956724Z"
    }
   },
   "outputs": [],
   "source": [
    "loss_function = 'binary_crossentropy'\n",
    "optimization_strategy = 'adam'\n",
    "evaluation_metric = 'accuracy'\n",
    "\n",
    "model.compile(loss=loss_function, optimizer=optimization_strategy, metrics=[evaluation_metric])"
   ]
  },
  {
   "cell_type": "markdown",
   "metadata": {},
   "source": [
    "##### Step 4: Fit the model\n",
    "- Iterations through the training data defined by 'epochs'\n",
    "- Number of data samples examined prior to updating weights defined by 'batch_size'\n"
   ]
  },
  {
   "cell_type": "code",
   "execution_count": 16,
   "metadata": {
    "ExecuteTime": {
     "end_time": "2019-05-03T14:36:53.254973Z",
     "start_time": "2019-05-03T14:36:43.573662Z"
    }
   },
   "outputs": [
    {
     "name": "stdout",
     "output_type": "stream",
     "text": [
      "CPU working on fitting the model........\n",
      "Epoch 1/150\n",
      "768/768 [==============================] - 0s 481us/step - loss: 3.7105 - acc: 0.5977\n",
      "Epoch 2/150\n",
      "768/768 [==============================] - 0s 75us/step - loss: 0.9375 - acc: 0.5924\n",
      "Epoch 3/150\n",
      "768/768 [==============================] - 0s 79us/step - loss: 0.7478 - acc: 0.6445\n",
      "Epoch 4/150\n",
      "768/768 [==============================] - 0s 82us/step - loss: 0.7121 - acc: 0.6549\n",
      "Epoch 5/150\n",
      "768/768 [==============================] - 0s 80us/step - loss: 0.6841 - acc: 0.6667\n",
      "Epoch 6/150\n",
      "768/768 [==============================] - 0s 74us/step - loss: 0.6522 - acc: 0.6797\n",
      "Epoch 7/150\n",
      "768/768 [==============================] - 0s 74us/step - loss: 0.6499 - acc: 0.6823\n",
      "Epoch 8/150\n",
      "768/768 [==============================] - 0s 75us/step - loss: 0.6379 - acc: 0.6836\n",
      "Epoch 9/150\n",
      "768/768 [==============================] - 0s 75us/step - loss: 0.6245 - acc: 0.6953\n",
      "Epoch 10/150\n",
      "768/768 [==============================] - 0s 95us/step - loss: 0.6300 - acc: 0.6732\n",
      "Epoch 11/150\n",
      "768/768 [==============================] - 0s 83us/step - loss: 0.6465 - acc: 0.6706\n",
      "Epoch 12/150\n",
      "768/768 [==============================] - 0s 77us/step - loss: 0.6409 - acc: 0.6771\n",
      "Epoch 13/150\n",
      "768/768 [==============================] - 0s 75us/step - loss: 0.6271 - acc: 0.6797\n",
      "Epoch 14/150\n",
      "768/768 [==============================] - 0s 79us/step - loss: 0.6183 - acc: 0.7005\n",
      "Epoch 15/150\n",
      "768/768 [==============================] - 0s 77us/step - loss: 0.6027 - acc: 0.6901\n",
      "Epoch 16/150\n",
      "768/768 [==============================] - 0s 76us/step - loss: 0.5879 - acc: 0.7005\n",
      "Epoch 17/150\n",
      "768/768 [==============================] - 0s 79us/step - loss: 0.5849 - acc: 0.6992\n",
      "Epoch 18/150\n",
      "768/768 [==============================] - 0s 77us/step - loss: 0.6012 - acc: 0.6849\n",
      "Epoch 19/150\n",
      "768/768 [==============================] - 0s 75us/step - loss: 0.5808 - acc: 0.7109\n",
      "Epoch 20/150\n",
      "768/768 [==============================] - 0s 76us/step - loss: 0.5805 - acc: 0.7201\n",
      "Epoch 21/150\n",
      "768/768 [==============================] - 0s 79us/step - loss: 0.5687 - acc: 0.7135\n",
      "Epoch 22/150\n",
      "768/768 [==============================] - 0s 76us/step - loss: 0.5824 - acc: 0.6927\n",
      "Epoch 23/150\n",
      "768/768 [==============================] - 0s 78us/step - loss: 0.5735 - acc: 0.7135\n",
      "Epoch 24/150\n",
      "768/768 [==============================] - 0s 81us/step - loss: 0.5672 - acc: 0.7318\n",
      "Epoch 25/150\n",
      "768/768 [==============================] - 0s 79us/step - loss: 0.5579 - acc: 0.7357\n",
      "Epoch 26/150\n",
      "768/768 [==============================] - 0s 76us/step - loss: 0.5701 - acc: 0.7044\n",
      "Epoch 27/150\n",
      "768/768 [==============================] - 0s 76us/step - loss: 0.5557 - acc: 0.7214\n",
      "Epoch 28/150\n",
      "768/768 [==============================] - 0s 75us/step - loss: 0.5556 - acc: 0.7279\n",
      "Epoch 29/150\n",
      "768/768 [==============================] - 0s 76us/step - loss: 0.5737 - acc: 0.7148\n",
      "Epoch 30/150\n",
      "768/768 [==============================] - 0s 75us/step - loss: 0.5608 - acc: 0.7227\n",
      "Epoch 31/150\n",
      "768/768 [==============================] - 0s 79us/step - loss: 0.5687 - acc: 0.7148\n",
      "Epoch 32/150\n",
      "768/768 [==============================] - 0s 79us/step - loss: 0.5633 - acc: 0.7174\n",
      "Epoch 33/150\n",
      "768/768 [==============================] - 0s 78us/step - loss: 0.5515 - acc: 0.7148\n",
      "Epoch 34/150\n",
      "768/768 [==============================] - 0s 77us/step - loss: 0.5485 - acc: 0.7305\n",
      "Epoch 35/150\n",
      "768/768 [==============================] - 0s 74us/step - loss: 0.5491 - acc: 0.7253\n",
      "Epoch 36/150\n",
      "768/768 [==============================] - 0s 76us/step - loss: 0.5650 - acc: 0.7044\n",
      "Epoch 37/150\n",
      "768/768 [==============================] - 0s 76us/step - loss: 0.5327 - acc: 0.7409\n",
      "Epoch 38/150\n",
      "768/768 [==============================] - 0s 78us/step - loss: 0.5404 - acc: 0.7253\n",
      "Epoch 39/150\n",
      "768/768 [==============================] - 0s 74us/step - loss: 0.5454 - acc: 0.7266\n",
      "Epoch 40/150\n",
      "768/768 [==============================] - 0s 76us/step - loss: 0.5441 - acc: 0.7227\n",
      "Epoch 41/150\n",
      "768/768 [==============================] - 0s 76us/step - loss: 0.5413 - acc: 0.7357\n",
      "Epoch 42/150\n",
      "768/768 [==============================] - 0s 79us/step - loss: 0.5369 - acc: 0.7435\n",
      "Epoch 43/150\n",
      "768/768 [==============================] - 0s 82us/step - loss: 0.5308 - acc: 0.7487\n",
      "Epoch 44/150\n",
      "768/768 [==============================] - 0s 78us/step - loss: 0.5335 - acc: 0.7435\n",
      "Epoch 45/150\n",
      "768/768 [==============================] - 0s 79us/step - loss: 0.5305 - acc: 0.7539\n",
      "Epoch 46/150\n",
      "768/768 [==============================] - 0s 82us/step - loss: 0.5286 - acc: 0.7513\n",
      "Epoch 47/150\n",
      "768/768 [==============================] - 0s 81us/step - loss: 0.5320 - acc: 0.7383\n",
      "Epoch 48/150\n",
      "768/768 [==============================] - 0s 78us/step - loss: 0.5327 - acc: 0.7435\n",
      "Epoch 49/150\n",
      "768/768 [==============================] - 0s 77us/step - loss: 0.5333 - acc: 0.7474\n",
      "Epoch 50/150\n",
      "768/768 [==============================] - 0s 74us/step - loss: 0.5258 - acc: 0.7357\n",
      "Epoch 51/150\n",
      "768/768 [==============================] - 0s 75us/step - loss: 0.5274 - acc: 0.7448\n",
      "Epoch 52/150\n",
      "768/768 [==============================] - 0s 73us/step - loss: 0.5315 - acc: 0.7461\n",
      "Epoch 53/150\n",
      "768/768 [==============================] - 0s 81us/step - loss: 0.5383 - acc: 0.7461\n",
      "Epoch 54/150\n",
      "768/768 [==============================] - 0s 78us/step - loss: 0.5373 - acc: 0.7318\n",
      "Epoch 55/150\n",
      "768/768 [==============================] - 0s 77us/step - loss: 0.5214 - acc: 0.7539\n",
      "Epoch 56/150\n",
      "768/768 [==============================] - 0s 77us/step - loss: 0.5294 - acc: 0.7435\n",
      "Epoch 57/150\n",
      "768/768 [==============================] - 0s 76us/step - loss: 0.5310 - acc: 0.7344\n",
      "Epoch 58/150\n",
      "768/768 [==============================] - 0s 74us/step - loss: 0.5213 - acc: 0.7487\n",
      "Epoch 59/150\n",
      "768/768 [==============================] - 0s 74us/step - loss: 0.5126 - acc: 0.7591\n",
      "Epoch 60/150\n",
      "768/768 [==============================] - 0s 76us/step - loss: 0.5350 - acc: 0.7370\n",
      "Epoch 61/150\n",
      "768/768 [==============================] - 0s 75us/step - loss: 0.5272 - acc: 0.7344\n",
      "Epoch 62/150\n",
      "768/768 [==============================] - 0s 75us/step - loss: 0.5167 - acc: 0.7513\n",
      "Epoch 63/150\n",
      "768/768 [==============================] - 0s 77us/step - loss: 0.5422 - acc: 0.7318\n",
      "Epoch 64/150\n",
      "768/768 [==============================] - 0s 78us/step - loss: 0.5321 - acc: 0.7435\n",
      "Epoch 65/150\n",
      "768/768 [==============================] - 0s 75us/step - loss: 0.5227 - acc: 0.7448\n",
      "Epoch 66/150\n",
      "768/768 [==============================] - 0s 77us/step - loss: 0.5062 - acc: 0.7500\n",
      "Epoch 67/150\n",
      "768/768 [==============================] - 0s 74us/step - loss: 0.5165 - acc: 0.7409\n",
      "Epoch 68/150\n",
      "768/768 [==============================] - 0s 74us/step - loss: 0.5128 - acc: 0.7526\n",
      "Epoch 69/150\n",
      "768/768 [==============================] - 0s 75us/step - loss: 0.5125 - acc: 0.7487\n",
      "Epoch 70/150\n",
      "768/768 [==============================] - 0s 77us/step - loss: 0.5347 - acc: 0.7240\n",
      "Epoch 71/150\n",
      "768/768 [==============================] - 0s 76us/step - loss: 0.5173 - acc: 0.7435\n",
      "Epoch 72/150\n",
      "768/768 [==============================] - 0s 73us/step - loss: 0.5165 - acc: 0.7500\n",
      "Epoch 73/150\n",
      "768/768 [==============================] - 0s 73us/step - loss: 0.5162 - acc: 0.7500\n",
      "Epoch 74/150\n",
      "768/768 [==============================] - 0s 76us/step - loss: 0.5096 - acc: 0.7630\n",
      "Epoch 75/150\n",
      "768/768 [==============================] - 0s 77us/step - loss: 0.5098 - acc: 0.7604\n",
      "Epoch 76/150\n",
      "768/768 [==============================] - 0s 78us/step - loss: 0.5118 - acc: 0.7565\n",
      "Epoch 77/150\n",
      "768/768 [==============================] - 0s 82us/step - loss: 0.5156 - acc: 0.7617\n",
      "Epoch 78/150\n",
      "768/768 [==============================] - 0s 76us/step - loss: 0.5117 - acc: 0.7500\n",
      "Epoch 79/150\n",
      "768/768 [==============================] - 0s 75us/step - loss: 0.5138 - acc: 0.7422\n",
      "Epoch 80/150\n",
      "768/768 [==============================] - 0s 73us/step - loss: 0.5097 - acc: 0.7552\n",
      "Epoch 81/150\n",
      "768/768 [==============================] - 0s 81us/step - loss: 0.5058 - acc: 0.7669\n",
      "Epoch 82/150\n",
      "768/768 [==============================] - 0s 78us/step - loss: 0.5049 - acc: 0.7552\n",
      "Epoch 83/150\n",
      "768/768 [==============================] - 0s 75us/step - loss: 0.5029 - acc: 0.7565\n",
      "Epoch 84/150\n"
     ]
    },
    {
     "name": "stdout",
     "output_type": "stream",
     "text": [
      "768/768 [==============================] - 0s 78us/step - loss: 0.4978 - acc: 0.7578\n",
      "Epoch 85/150\n",
      "768/768 [==============================] - 0s 78us/step - loss: 0.5062 - acc: 0.7435\n",
      "Epoch 86/150\n",
      "768/768 [==============================] - 0s 75us/step - loss: 0.5075 - acc: 0.7565\n",
      "Epoch 87/150\n",
      "768/768 [==============================] - 0s 80us/step - loss: 0.5000 - acc: 0.7513\n",
      "Epoch 88/150\n",
      "768/768 [==============================] - 0s 78us/step - loss: 0.5031 - acc: 0.7669\n",
      "Epoch 89/150\n",
      "768/768 [==============================] - 0s 75us/step - loss: 0.5076 - acc: 0.7591\n",
      "Epoch 90/150\n",
      "768/768 [==============================] - 0s 77us/step - loss: 0.5103 - acc: 0.7552\n",
      "Epoch 91/150\n",
      "768/768 [==============================] - 0s 78us/step - loss: 0.5035 - acc: 0.7500\n",
      "Epoch 92/150\n",
      "768/768 [==============================] - 0s 80us/step - loss: 0.5060 - acc: 0.7435\n",
      "Epoch 93/150\n",
      "768/768 [==============================] - 0s 77us/step - loss: 0.5005 - acc: 0.7604\n",
      "Epoch 94/150\n",
      "768/768 [==============================] - 0s 81us/step - loss: 0.4997 - acc: 0.7578\n",
      "Epoch 95/150\n",
      "768/768 [==============================] - 0s 82us/step - loss: 0.5057 - acc: 0.7487\n",
      "Epoch 96/150\n",
      "768/768 [==============================] - 0s 77us/step - loss: 0.4950 - acc: 0.7604\n",
      "Epoch 97/150\n",
      "768/768 [==============================] - 0s 77us/step - loss: 0.5013 - acc: 0.7708\n",
      "Epoch 98/150\n",
      "768/768 [==============================] - 0s 83us/step - loss: 0.4910 - acc: 0.7591\n",
      "Epoch 99/150\n",
      "768/768 [==============================] - 0s 79us/step - loss: 0.4935 - acc: 0.7643\n",
      "Epoch 100/150\n",
      "768/768 [==============================] - 0s 79us/step - loss: 0.4858 - acc: 0.7734\n",
      "Epoch 101/150\n",
      "768/768 [==============================] - 0s 80us/step - loss: 0.4914 - acc: 0.7682\n",
      "Epoch 102/150\n",
      "768/768 [==============================] - 0s 81us/step - loss: 0.4991 - acc: 0.7565\n",
      "Epoch 103/150\n",
      "768/768 [==============================] - 0s 81us/step - loss: 0.5012 - acc: 0.7578\n",
      "Epoch 104/150\n",
      "768/768 [==============================] - 0s 78us/step - loss: 0.4946 - acc: 0.7839\n",
      "Epoch 105/150\n",
      "768/768 [==============================] - 0s 80us/step - loss: 0.5343 - acc: 0.7474\n",
      "Epoch 106/150\n",
      "768/768 [==============================] - 0s 78us/step - loss: 0.4926 - acc: 0.7708\n",
      "Epoch 107/150\n",
      "768/768 [==============================] - 0s 78us/step - loss: 0.4921 - acc: 0.7708\n",
      "Epoch 108/150\n",
      "768/768 [==============================] - 0s 80us/step - loss: 0.4997 - acc: 0.7721\n",
      "Epoch 109/150\n",
      "768/768 [==============================] - 0s 82us/step - loss: 0.4885 - acc: 0.7617\n",
      "Epoch 110/150\n",
      "768/768 [==============================] - 0s 80us/step - loss: 0.4916 - acc: 0.7643\n",
      "Epoch 111/150\n",
      "768/768 [==============================] - 0s 79us/step - loss: 0.4853 - acc: 0.7734\n",
      "Epoch 112/150\n",
      "768/768 [==============================] - 0s 80us/step - loss: 0.4952 - acc: 0.7734\n",
      "Epoch 113/150\n",
      "768/768 [==============================] - 0s 81us/step - loss: 0.5027 - acc: 0.7617\n",
      "Epoch 114/150\n",
      "768/768 [==============================] - 0s 79us/step - loss: 0.4942 - acc: 0.7591\n",
      "Epoch 115/150\n",
      "768/768 [==============================] - 0s 82us/step - loss: 0.4956 - acc: 0.7682\n",
      "Epoch 116/150\n",
      "768/768 [==============================] - 0s 80us/step - loss: 0.4957 - acc: 0.7695\n",
      "Epoch 117/150\n",
      "768/768 [==============================] - 0s 81us/step - loss: 0.4927 - acc: 0.7604\n",
      "Epoch 118/150\n",
      "768/768 [==============================] - 0s 79us/step - loss: 0.4920 - acc: 0.7760\n",
      "Epoch 119/150\n",
      "768/768 [==============================] - 0s 82us/step - loss: 0.4842 - acc: 0.7656\n",
      "Epoch 120/150\n",
      "768/768 [==============================] - 0s 80us/step - loss: 0.4948 - acc: 0.7799\n",
      "Epoch 121/150\n",
      "768/768 [==============================] - 0s 80us/step - loss: 0.4948 - acc: 0.7747\n",
      "Epoch 122/150\n",
      "768/768 [==============================] - 0s 78us/step - loss: 0.4873 - acc: 0.7799\n",
      "Epoch 123/150\n",
      "768/768 [==============================] - 0s 83us/step - loss: 0.4832 - acc: 0.7695\n",
      "Epoch 124/150\n",
      "768/768 [==============================] - 0s 80us/step - loss: 0.4852 - acc: 0.7760\n",
      "Epoch 125/150\n",
      "768/768 [==============================] - 0s 82us/step - loss: 0.4879 - acc: 0.7852\n",
      "Epoch 126/150\n",
      "768/768 [==============================] - 0s 78us/step - loss: 0.4819 - acc: 0.7839\n",
      "Epoch 127/150\n",
      "768/768 [==============================] - 0s 82us/step - loss: 0.4913 - acc: 0.7656\n",
      "Epoch 128/150\n",
      "768/768 [==============================] - 0s 79us/step - loss: 0.4744 - acc: 0.7786\n",
      "Epoch 129/150\n",
      "768/768 [==============================] - 0s 80us/step - loss: 0.4824 - acc: 0.7734\n",
      "Epoch 130/150\n",
      "768/768 [==============================] - 0s 80us/step - loss: 0.4747 - acc: 0.7865\n",
      "Epoch 131/150\n",
      "768/768 [==============================] - 0s 83us/step - loss: 0.4852 - acc: 0.7695\n",
      "Epoch 132/150\n",
      "768/768 [==============================] - 0s 82us/step - loss: 0.4856 - acc: 0.7760\n",
      "Epoch 133/150\n",
      "768/768 [==============================] - 0s 78us/step - loss: 0.4838 - acc: 0.7682\n",
      "Epoch 134/150\n",
      "768/768 [==============================] - 0s 80us/step - loss: 0.4864 - acc: 0.7721\n",
      "Epoch 135/150\n",
      "768/768 [==============================] - 0s 81us/step - loss: 0.4799 - acc: 0.7721\n",
      "Epoch 136/150\n",
      "768/768 [==============================] - 0s 81us/step - loss: 0.4753 - acc: 0.7760\n",
      "Epoch 137/150\n",
      "768/768 [==============================] - 0s 82us/step - loss: 0.4690 - acc: 0.7799\n",
      "Epoch 138/150\n",
      "768/768 [==============================] - 0s 80us/step - loss: 0.4810 - acc: 0.7852\n",
      "Epoch 139/150\n",
      "768/768 [==============================] - 0s 81us/step - loss: 0.4710 - acc: 0.7812\n",
      "Epoch 140/150\n",
      "768/768 [==============================] - 0s 82us/step - loss: 0.4844 - acc: 0.7760\n",
      "Epoch 141/150\n",
      "768/768 [==============================] - 0s 82us/step - loss: 0.4749 - acc: 0.7891\n",
      "Epoch 142/150\n",
      "768/768 [==============================] - 0s 84us/step - loss: 0.4842 - acc: 0.7708\n",
      "Epoch 143/150\n",
      "768/768 [==============================] - 0s 81us/step - loss: 0.4761 - acc: 0.7682\n",
      "Epoch 144/150\n",
      "768/768 [==============================] - 0s 83us/step - loss: 0.4759 - acc: 0.7760\n",
      "Epoch 145/150\n",
      "768/768 [==============================] - 0s 80us/step - loss: 0.4904 - acc: 0.7669\n",
      "Epoch 146/150\n",
      "768/768 [==============================] - 0s 80us/step - loss: 0.4905 - acc: 0.7695\n",
      "Epoch 147/150\n",
      "768/768 [==============================] - 0s 80us/step - loss: 0.4834 - acc: 0.7773\n",
      "Epoch 148/150\n",
      "768/768 [==============================] - 0s 85us/step - loss: 0.4715 - acc: 0.7721\n",
      "Epoch 149/150\n",
      "768/768 [==============================] - 0s 81us/step - loss: 0.4751 - acc: 0.7617\n",
      "Epoch 150/150\n",
      "768/768 [==============================] - 0s 81us/step - loss: 0.4765 - acc: 0.7708\n",
      ".........CPU fit the model\n"
     ]
    }
   ],
   "source": [
    "num_samples_batch = 10\n",
    "num_epochs = 150\n",
    "print('CPU working on fitting the model........')\n",
    "model.fit(X, Y, epochs=num_epochs, batch_size=num_samples_batch)\n",
    "print('.........CPU fit the model')\n",
    "\n",
    "\n"
   ]
  },
  {
   "cell_type": "markdown",
   "metadata": {},
   "source": [
    "##### Step 5: Evaluate the model\n",
    "- We will evaluate on the same data that was used to train the model, which is, in general, a poor indicator\n",
    "- We will only be able to claim that the network has well modeled the data, NOT that it is capable of generalization\n",
    "- More appropriate approach is to split the data into training and testing sets\n",
    "    --> NOTE: It is important to be aware of pitfalls of training/testing data splitting (e.g., [data/information leakage and the myriad ways it can occur](https://conlanscientific.com/posts/category/blog/post/avoiding-data-leakage-machine-learning/))"
   ]
  },
  {
   "cell_type": "code",
   "execution_count": 33,
   "metadata": {},
   "outputs": [
    {
     "name": "stdout",
     "output_type": "stream",
     "text": [
      "768/768 [==============================] - 0s 56us/step\b\b\b\b\b\b\b\b\b\b\b\b\b\b\b\b\b\b\b\b\b\b\b\b\b\b\b\b\b\b\b\b\b\b\b\b\b\b\b\b\b\b\b\b\b\n",
      "acc: 78.125%\n"
     ]
    }
   ],
   "source": [
    "scores = model.evaluate(X, Y)\n",
    "print('{0}: {1}%'.format(model.metrics_names[1], scores[1]*100))"
   ]
  },
  {
   "cell_type": "markdown",
   "metadata": {},
   "source": [
    "##### Step 6: Use the model to *predict*\n",
    "- Could use 'model.predict(X)' to create predictions on unseen/unlabeled data"
   ]
  },
  {
   "cell_type": "markdown",
   "metadata": {},
   "source": [
    "Fantastic reference on introduction to neural networks: http://cs231n.github.io/neural-networks-1/\n",
    "\n",
    "...part of a course on neural networks for visual recognition offered in the Stanford Computer Science Department: http://cs231n.github.io/\n",
    "\n",
    "### Play around!\n",
    "- Much can be learned about the capability, complexity, and function of neural networks with tools that provide rapid feedback and prototyping (such as https://bit.ly/2OMKoOp)"
   ]
  },
  {
   "cell_type": "markdown",
   "metadata": {},
   "source": [
    "## Recommendation: play around with neural networks on a data set that is relevant and interesting to you, not simply based on data availability/ease of use/etc.\n"
   ]
  },
  {
   "cell_type": "markdown",
   "metadata": {},
   "source": [
    "![](HeliophysicsObsSystem.png \"\")\n"
   ]
  },
  {
   "cell_type": "markdown",
   "metadata": {},
   "source": [
    "### References: \n",
    "- https://ujjwalkarn.me/2016/08/09/quick-intro-neural-networks/\n",
    "- https://machinelearningmastery.com/tutorial-first-neural-network-python-keras/\n",
    "- UCI Machine Learning Dataset Repository: https://archive.ics.uci.edu/ml/datasets.html\n",
    "- NASA Heliophysics Observational System Graphic: https://science.nasa.gov/heliophysics/programs/research"
   ]
  },
  {
   "cell_type": "code",
   "execution_count": null,
   "metadata": {
    "collapsed": true
   },
   "outputs": [],
   "source": []
  }
 ],
 "metadata": {
  "kernelspec": {
   "display_name": "Python 3",
   "language": "python",
   "name": "python3"
  },
  "language_info": {
   "codemirror_mode": {
    "name": "ipython",
    "version": 3
   },
   "file_extension": ".py",
   "mimetype": "text/x-python",
   "name": "python",
   "nbconvert_exporter": "python",
   "pygments_lexer": "ipython3",
   "version": "3.6.8"
  }
 },
 "nbformat": 4,
 "nbformat_minor": 2
}
